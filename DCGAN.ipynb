{
  "nbformat": 4,
  "nbformat_minor": 0,
  "metadata": {
    "colab": {
      "name": "DCGAN.ipynb",
      "version": "0.3.2",
      "provenance": [],
      "collapsed_sections": [],
      "include_colab_link": true
    },
    "kernelspec": {
      "name": "python3",
      "display_name": "Python 3"
    },
    "accelerator": "GPU"
  },
  "cells": [
    {
      "cell_type": "markdown",
      "metadata": {
        "id": "view-in-github",
        "colab_type": "text"
      },
      "source": [
        "<a href=\"https://colab.research.google.com/github/satrfall6/GAN_LLD_32x32/blob/master/DCGAN.ipynb\" target=\"_parent\"><img src=\"https://colab.research.google.com/assets/colab-badge.svg\" alt=\"Open In Colab\"/></a>"
      ]
    },
    {
      "cell_type": "code",
      "metadata": {
        "id": "ZJnBPV3S2WuV",
        "colab_type": "code",
        "colab": {}
      },
      "source": [
        "import torch\n",
        "import torch.optim as opt\n",
        "import torch.nn as nn\n",
        "import torchvision\n",
        "import torchvision.transforms as transforms\n",
        "import numpy as np\n",
        "import matplotlib.pyplot as plt\n",
        "import torchvision.utils as vutils\n"
      ],
      "execution_count": 0,
      "outputs": []
    },
    {
      "cell_type": "code",
      "metadata": {
        "id": "qNp4HZsOLIwB",
        "colab_type": "code",
        "colab": {
          "base_uri": "https://localhost:8080/",
          "height": 34
        },
        "outputId": "58fa8086-abd1-430f-bc01-8930e1d4c8db"
      },
      "source": [
        "#check if GPU is working \n",
        "torch.cuda.is_available()"
      ],
      "execution_count": 2,
      "outputs": [
        {
          "output_type": "execute_result",
          "data": {
            "text/plain": [
              "True"
            ]
          },
          "metadata": {
            "tags": []
          },
          "execution_count": 2
        }
      ]
    },
    {
      "cell_type": "code",
      "metadata": {
        "id": "aB421obUMFWc",
        "colab_type": "code",
        "colab": {
          "base_uri": "https://localhost:8080/",
          "height": 34
        },
        "outputId": "ad2cd501-3553-4a19-9d59-ff9f6d8098b7"
      },
      "source": [
        "#set the GPU device, then we can apply for the parameters below\n",
        "device = torch.device(\"cuda\" if torch.cuda.is_available() else \"cpu\")\n",
        "device "
      ],
      "execution_count": 3,
      "outputs": [
        {
          "output_type": "stream",
          "text": [
            "1\n"
          ],
          "name": "stdout"
        }
      ]
    },
    {
      "cell_type": "code",
      "metadata": {
        "id": "PW9h02RL2l7S",
        "colab_type": "code",
        "colab": {}
      },
      "source": [
        "# Batch size during training\n",
        "batch_size = 64\n",
        "# Spatial size of training images. All images will be resized to this\n",
        "#   size using a transformer.\n",
        "image_size = 28\n",
        "# Number of training epochs\n",
        "num_epochs = 30\n",
        "# Number of channels in the training images. For color images this is 3\n",
        "nc = 1\n",
        "# Size of z latent vector (i.e. size of generator input)\n",
        "nz = 100\n",
        "# Size of feature maps in generator\n",
        "ngf = 128\n",
        "# Size of feature maps in discriminator\n",
        "ndf =128\n",
        "# Number of GPUs available. Use 0 for CPU mode.\n",
        "ngpu = 0\n",
        "# Beta1 hyperparam for Adam optimizers\n",
        "beta1 = 0.5\n",
        "# Learning rate for optimizers\n",
        "lr = 0.0002"
      ],
      "execution_count": 0,
      "outputs": []
    },
    {
      "cell_type": "code",
      "metadata": {
        "id": "MM10JUBi2tbR",
        "colab_type": "code",
        "colab": {}
      },
      "source": [
        "# Image loading and processing\n",
        "transform = transforms.Compose([\n",
        "                transforms.ToTensor(),\n",
        "                transforms.Normalize([0.5,], [0.5,])])\n",
        "\n",
        "train_data = torchvision.datasets.MNIST(\n",
        "    root='./mnist/',\n",
        "    train=True,                                     # this is training data\n",
        "    transform= transform,\n",
        "                                    \n",
        "    download=False,\n",
        ")\n",
        "\n",
        "trainLoader = torch.utils.data.DataLoader(train_data, shuffle=True, batch_size=batch_size)"
      ],
      "execution_count": 0,
      "outputs": []
    },
    {
      "cell_type": "code",
      "metadata": {
        "id": "gAvyaPPocVyz",
        "colab_type": "code",
        "colab": {}
      },
      "source": [
        "#plot 64(8*8) images in one plot\n",
        "def showImages(imgs):\n",
        "    imgs = torchvision.utils.make_grid(imgs)\n",
        "    npimgs = imgs.cpu()\n",
        "    plt.figure(figsize=(8,8))\n",
        "    plt.imshow(np.transpose(npimgs, (1,2,0)), cmap='Greys_r')\n",
        "    plt.xticks([])\n",
        "    plt.yticks([])\n",
        "    plt.show()"
      ],
      "execution_count": 0,
      "outputs": []
    },
    {
      "cell_type": "code",
      "metadata": {
        "id": "3C-5WfZR21Pf",
        "colab_type": "code",
        "colab": {}
      },
      "source": [
        "#initialize weights 'CONV' and 'Batch' by normal distribution with(mean,std) \n",
        "def weights_init(m):\n",
        "    classname = m.__class__.__name__\n",
        "    if classname.find('Conv') != -1:\n",
        "        m.weight.data.normal_(0., 0.02)\n",
        "    elif classname.find('BatchNorm') != -1:\n",
        "        m.weight.data.normal_(1., 0.02)\n",
        "        m.bias.data.fill_(0.)\n"
      ],
      "execution_count": 0,
      "outputs": []
    },
    {
      "cell_type": "code",
      "metadata": {
        "id": "8iW4RCUB3D03",
        "colab_type": "code",
        "colab": {}
      },
      "source": [
        "#generator\n",
        "\n",
        "class generator(nn.Module):\n",
        "    # initializers\n",
        "    def __init__(self):\n",
        "        super(generator, self).__init__()\n",
        "        self.main = nn.Sequential(\n",
        "            # input is Z, going into a convolution\n",
        "            nn.ConvTranspose2d( nz, ngf * 4, 4, 1, 0, bias=False),\n",
        "            nn.BatchNorm2d(ngf * 4),\n",
        "            nn.ReLU(True),\n",
        "            # state size. (ngf*8) x 4 x 4\n",
        "            nn.ConvTranspose2d(ngf * 4, ngf * 2, 3, 2, 1, bias=False),\n",
        "            nn.BatchNorm2d(ngf * 2),\n",
        "            nn.ReLU(True),\n",
        "            # state size. (ngf*4) x 7 x 7\n",
        "            nn.ConvTranspose2d( ngf * 2, ngf * 1, 4, 2, 1, bias=False),\n",
        "            nn.BatchNorm2d(ngf * 1),\n",
        "            nn.ReLU(True),\n",
        "            # state size. (ngf*2) x 14 x 14\n",
        "            nn.ConvTranspose2d( ngf, nc, 4, 2, 1, bias=False),\n",
        "            nn.Tanh()\n",
        "            # state size. (nc) x 28 x 28\n",
        "            )\n",
        "        \n",
        "            # forward method\n",
        "    def forward(self, input):\n",
        "\n",
        "        return self.main(input)"
      ],
      "execution_count": 0,
      "outputs": []
    },
    {
      "cell_type": "code",
      "metadata": {
        "id": "Ja7nQgYs3RYV",
        "colab_type": "code",
        "colab": {}
      },
      "source": [
        "#discriminator\n",
        "   \n",
        "class discriminator(nn.Module):\n",
        "    # initializers\n",
        "    def __init__(self):\n",
        "        super(discriminator, self).__init__()\n",
        "        self.main = nn.Sequential(\n",
        "            # input is (nc) x 28 x 28\n",
        "            nn.Conv2d(nc, ndf, 4, 2, 1, bias=False),\n",
        "            nn.LeakyReLU(0.2, inplace=True),\n",
        "            # state size. (ndf) x 14 x 14\n",
        "            nn.Conv2d(ndf, ndf * 2, 4, 2, 1, bias=False),\n",
        "            nn.BatchNorm2d(ndf * 2),\n",
        "            nn.LeakyReLU(0.4, inplace=True),\n",
        "            # state size. (ndf*2) x 7 x 7\n",
        "            nn.Conv2d(ndf * 2, ndf * 4, 3, 2, 1, bias=False),\n",
        "            nn.BatchNorm2d(ndf * 4),\n",
        "            nn.LeakyReLU(0.8, inplace=True),\n",
        "            # state size. (ndf*8) x 4 x 4\n",
        "            nn.Conv2d(ndf * 4, 1, 4, 1, 0, bias=False),\n",
        "            nn.Sigmoid()\n",
        "        )\n",
        "\n",
        "            # forward method\n",
        "    def forward(self, input):\n",
        "        return self.main(input)"
      ],
      "execution_count": 0,
      "outputs": []
    },
    {
      "cell_type": "code",
      "metadata": {
        "id": "d5xgE1Fg3TkP",
        "colab_type": "code",
        "colab": {}
      },
      "source": [
        "#save the model\n",
        "G=generator()\n",
        "D=discriminator()\n",
        "\n",
        "#set the loss function\n",
        "criterion = nn.BCELoss()\n",
        "fixed_noise = torch.randn(64, nz, 1, 1).to(device) \n",
        "\n",
        "# Establish convention for real and fake labels during training\n",
        "real_label = 1\n",
        "fake_label = 0\n",
        "\n",
        "# Setup Adam optimizers for both G and D\n",
        "optimizerD = opt.Adam(D.parameters(), lr=lr, betas=(beta1, 0.999))\n",
        "optimizerG = opt.Adam(G.parameters(), lr=lr, betas=(beta1, 0.999))\n",
        "\n",
        "#just for tracing the performance of model\n",
        "img_list = []\n",
        "G_losses = []\n",
        "D_losses = []\n",
        "iters = 0"
      ],
      "execution_count": 0,
      "outputs": []
    },
    {
      "cell_type": "code",
      "metadata": {
        "id": "ra69frpTCH22",
        "colab_type": "code",
        "colab": {
          "base_uri": "https://localhost:8080/",
          "height": 276
        },
        "outputId": "bfb86883-8934-44ab-fdb2-ce461b001836"
      },
      "source": [
        "# set model to GPU\n",
        "D.cuda()\n",
        "G.cuda()\n"
      ],
      "execution_count": 9,
      "outputs": [
        {
          "output_type": "execute_result",
          "data": {
            "text/plain": [
              "generator(\n",
              "  (main): Sequential(\n",
              "    (0): ConvTranspose2d(100, 512, kernel_size=(4, 4), stride=(1, 1), bias=False)\n",
              "    (1): BatchNorm2d(512, eps=1e-05, momentum=0.1, affine=True, track_running_stats=True)\n",
              "    (2): ReLU(inplace)\n",
              "    (3): ConvTranspose2d(512, 256, kernel_size=(3, 3), stride=(2, 2), padding=(1, 1), bias=False)\n",
              "    (4): BatchNorm2d(256, eps=1e-05, momentum=0.1, affine=True, track_running_stats=True)\n",
              "    (5): ReLU(inplace)\n",
              "    (6): ConvTranspose2d(256, 128, kernel_size=(4, 4), stride=(2, 2), padding=(1, 1), bias=False)\n",
              "    (7): BatchNorm2d(128, eps=1e-05, momentum=0.1, affine=True, track_running_stats=True)\n",
              "    (8): ReLU(inplace)\n",
              "    (9): ConvTranspose2d(128, 1, kernel_size=(4, 4), stride=(2, 2), padding=(1, 1), bias=False)\n",
              "    (10): Tanh()\n",
              "  )\n",
              ")"
            ]
          },
          "metadata": {
            "tags": []
          },
          "execution_count": 9
        }
      ]
    },
    {
      "cell_type": "code",
      "metadata": {
        "id": "yt24Q4Fr3ph2",
        "colab_type": "code",
        "colab": {
          "base_uri": "https://localhost:8080/",
          "height": 259
        },
        "outputId": "e78f3439-1f9c-494b-d6df-192276d324ea"
      },
      "source": [
        "#apply initialize weights\n",
        "G.apply(weights_init)\n",
        "D.apply(weights_init)\n"
      ],
      "execution_count": 10,
      "outputs": [
        {
          "output_type": "execute_result",
          "data": {
            "text/plain": [
              "discriminator(\n",
              "  (main): Sequential(\n",
              "    (0): Conv2d(1, 128, kernel_size=(4, 4), stride=(2, 2), padding=(1, 1), bias=False)\n",
              "    (1): LeakyReLU(negative_slope=0.2, inplace)\n",
              "    (2): Conv2d(128, 256, kernel_size=(4, 4), stride=(2, 2), padding=(1, 1), bias=False)\n",
              "    (3): BatchNorm2d(256, eps=1e-05, momentum=0.1, affine=True, track_running_stats=True)\n",
              "    (4): LeakyReLU(negative_slope=0.4, inplace)\n",
              "    (5): Conv2d(256, 512, kernel_size=(3, 3), stride=(2, 2), padding=(1, 1), bias=False)\n",
              "    (6): BatchNorm2d(512, eps=1e-05, momentum=0.1, affine=True, track_running_stats=True)\n",
              "    (7): LeakyReLU(negative_slope=0.8, inplace)\n",
              "    (8): Conv2d(512, 1, kernel_size=(4, 4), stride=(1, 1), bias=False)\n",
              "    (9): Sigmoid()\n",
              "  )\n",
              ")"
            ]
          },
          "metadata": {
            "tags": []
          },
          "execution_count": 10
        }
      ]
    },
    {
      "cell_type": "code",
      "metadata": {
        "id": "b0H3GSdCbCJO",
        "colab_type": "code",
        "colab": {}
      },
      "source": [
        "#apply saved weights\n",
        "stateG_MNIST=torch.load('/content/mnist/G_MNIST')\n",
        "G.load_state_dict(stateG_MNIST['state_dict'])\n",
        "optimizerG.load_state_dict(stateG_MNIST['optimizer'])\n",
        "\n",
        "stateD_MNIST=torch.load('/content/mnist/D_MNIST')\n",
        "D.load_state_dict(stateD_MNIST['state_dict'])\n",
        "optimizerD.load_state_dict(stateD_MNIST['optimizer'])"
      ],
      "execution_count": 0,
      "outputs": []
    },
    {
      "cell_type": "code",
      "metadata": {
        "id": "4FS5ahW03zih",
        "colab_type": "code",
        "colab": {}
      },
      "source": [
        "for epoch in range(num_epochs):\n",
        "    # For each batch in the dataloader\n",
        "    for i, data in enumerate(trainLoader, 0):\n",
        "#        X, _ = data #just for debugging\n",
        "        '''\n",
        "        ###########################\n",
        "        # (1) Update D network: maximize log(D(x)) + log(1 - D(G(z)))\n",
        "        ###########################\n",
        "        ### Train with all-real batch\n",
        "        '''\n",
        "        # Firstly, have to set grad to zero\n",
        "        D.zero_grad()\n",
        "        ## Format batch\n",
        "        #Take only image without the label from MNIST\t\n",
        "        real_img = data[0].to(device) \n",
        "        # Set the batch size same as the image batch size we input every time\n",
        "        #sometimes it would not be same as the setting at original e.g.64, 60000/64 will left 32)\n",
        "        b_size = real_img.size(0)\n",
        "        # Create the label for images from true dataset   \n",
        "        one_label = torch.full((b_size,), real_label).to(device)  \n",
        "        # Forward pass real batch through D\n",
        "        output = D(real_img).view(-1).to(device) \n",
        "        # Calculate loss on all-real batch\n",
        "        errD_real = criterion(output, one_label)\n",
        "        # Calculate gradients for D in backward pass\n",
        "        errD_real.backward()\n",
        "        D_x = output.mean().item()\n",
        "        \n",
        "        '''\n",
        "        ###################################\n",
        "        ## Train D with all-fake batch\n",
        "        ###################################\n",
        "        '''                \n",
        "\n",
        "        # Generate batch of latent vectors(100-vector)\n",
        "        noise = torch.randn(b_size, nz, 1, 1).to(device) \n",
        "        # Generate fake image batch with G\n",
        "        fake = G(noise)\n",
        "\n",
        "        zero_label = torch.full((b_size,), fake_label).to(device) \n",
        "        # Classify all fake batch with D\n",
        "        output = D(fake.detach()).view(-1).to(device) \n",
        "        # Calculate D's loss on the all-fake batch\n",
        "        errD_fake = criterion(output, zero_label)\n",
        "        # Calculate the gradients for this batch\n",
        "        errD_fake.backward()\n",
        "     \n",
        "        ########### for statistics ############\n",
        "        D_G_z1 = output.mean().item()\n",
        "        # Add the gradients from the all-real and all-fake batches\n",
        "        errD = errD_real + errD_fake\n",
        "        #######################################\n",
        "        \n",
        "        # Update D\n",
        "        optimizerD.step()\n",
        "        '''\n",
        "        ###########################\n",
        "        # (2) Update G network: maximize log(D(G(z)))\n",
        "        ###########################\n",
        "        '''\n",
        "        G.zero_grad()\n",
        "\n",
        "        # Since we just updated D, perform another forward pass of all-fake batch through D\n",
        "\n",
        "        output = D(fake).view(-1)\n",
        "        # Calculate G's loss based on this output\n",
        "        errG = criterion(output, one_label)\n",
        "        # Calculate gradients for G\n",
        "        errG.backward()\n",
        "        \n",
        "        ########### for statistics ############\n",
        "        D_G_z2 = output.mean().item()\n",
        "        #######################################\n",
        "        \n",
        "        # Update G\n",
        "        optimizerG.step()\n",
        "        \n",
        "        '''\n",
        "        if i % 50 == 0:\n",
        "            print('[%d/%d][%d/%d]\\tLoss_D: %.4f\\tLoss_G: %.4f\\tD(x): %.4f\\tD(G(z)): %.4f / %.4f'\n",
        "                  % (epoch, num_epochs, i, len(trainLoader),\n",
        "                     errD.item(), errG.item(), D_x, D_G_z1, D_G_z2))\n",
        "\n",
        "        # Save Losses for plotting later\n",
        "        G_losses.append(errG.item())\n",
        "        D_losses.append(errD.item())\n",
        "        '''\n",
        "        \n",
        "        # Check how the generator is doing by saving G's output on fixed_noise\n",
        "        if (iters % 500 == 0) or ((epoch == num_epochs-1) and (i == len(trainLoader)-1)):\n",
        "            with torch.no_grad():\n",
        "                fake = G(fixed_noise).detach()\n",
        "            img_list.append(vutils.make_grid(fake, padding=2, normalize=True))\n",
        "\n",
        "        iters += 1  \n",
        "        \n",
        "        if epoch+1 % 5==0:\n",
        "            samples = fake.detach()\n",
        "            samples = samples.view(samples.size(0), 1, 28, 28)\n",
        "            showImgs(samples)\n",
        "\n",
        "            stateG_MNIST = {\n",
        "                'epoch': epoch,\n",
        "                'state_dict': G.state_dict(),\n",
        "                'optimizer': optimizerG.state_dict(),\n",
        "\n",
        "            }\n",
        "            torch.save(stateG_MNIST, '/content/mnist/G_MNIST') \n",
        "            stateD_MNIST = {\n",
        "                'epoch': epoch,\n",
        "                'state_dict': D.state_dict(),\n",
        "                'optimizer': optimizerD.state_dict(),\n",
        "\n",
        "            }\n",
        "            torch.save(stateD_MNIST, '/content/mnist/D_MNIST')"
      ],
      "execution_count": 0,
      "outputs": []
    },
    {
      "cell_type": "code",
      "metadata": {
        "id": "5eYGoSm8da7M",
        "colab_type": "code",
        "colab": {
          "base_uri": "https://localhost:8080/",
          "height": 34
        },
        "outputId": "795c4be9-c848-4c4f-8307-a7c58dbe0e90"
      },
      "source": [
        "#save weight manually\n",
        "\n",
        "stateG_MNIST = {\n",
        "    'epoch': epoch,\n",
        "    'state_dict': G.state_dict(),\n",
        "    'optimizer': optimizerG.state_dict(),\n",
        "\n",
        "}\n",
        "torch.save(stateG_MNIST, '/content/mnist/G_MNIST') \n",
        "stateD_MNIST = {\n",
        "    'epoch': epoch,\n",
        "    'state_dict': D.state_dict(),\n",
        "    'optimizer': optimizerD.state_dict(),\n",
        "\n",
        "}\n",
        "torch.save(stateD_MNIST, '/content/mnist/D_MNIST')\n",
        "\n",
        "print(\"saved successfully\")"
      ],
      "execution_count": 39,
      "outputs": [
        {
          "output_type": "stream",
          "text": [
            "saved successfully\n"
          ],
          "name": "stdout"
        }
      ]
    },
    {
      "cell_type": "code",
      "metadata": {
        "id": "0FydclSHkXPk",
        "colab_type": "code",
        "colab": {
          "base_uri": "https://localhost:8080/",
          "height": 491
        },
        "outputId": "25130ab7-e2c2-4b2f-aeb2-88ca688ab803"
      },
      "source": [
        "#manully plot\n",
        "samples = fake.detach()\n",
        "samples = samples.view(samples.size(0), 1, 28, 28)\n",
        "showImgs(samples)"
      ],
      "execution_count": 40,
      "outputs": [
        {
          "output_type": "stream",
          "text": [
            "Clipping input data to the valid range for imshow with RGB data ([0..1] for floats or [0..255] for integers).\n"
          ],
          "name": "stderr"
        },
        {
          "output_type": "display_data",
          "data": {
            "image/png": "[encoded data removed]",
            "text/plain": [
              "<Figure size 576x576 with 1 Axes>"
            ]
          },
          "metadata": {
            "tags": []
          }
        }
      ]
    },
    {
      "cell_type": "code",
      "metadata": {
        "id": "PUpR2fsMrj1N",
        "colab_type": "code",
        "colab": {
          "base_uri": "https://localhost:8080/",
          "height": 52
        },
        "outputId": "08461052-eb26-4c30-87e6-a24e70b7b8a6"
      },
      "source": [
        "!git remote add origin https://github.com/satrfall6/GAN_with_icons_32x32.git\n",
        "!git push -u origin master"
      ],
      "execution_count": 44,
      "outputs": [
        {
          "output_type": "stream",
          "text": [
            "fatal: not a git repository (or any of the parent directories): .git\n",
            "fatal: not a git repository (or any of the parent directories): .git\n"
          ],
          "name": "stdout"
        }
      ]
    }
  ]
}